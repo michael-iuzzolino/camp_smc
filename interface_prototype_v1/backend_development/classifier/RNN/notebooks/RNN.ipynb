{
 "cells": [
  {
   "cell_type": "markdown",
   "metadata": {},
   "source": [
    "# Dependencies"
   ]
  },
  {
   "cell_type": "code",
   "execution_count": 3,
   "metadata": {
    "collapsed": true
   },
   "outputs": [],
   "source": [
    "import sys\n",
    "import numpy as np\n",
    "import h5py\n",
    "import matplotlib.pyplot as plt\n",
    "import time\n",
    "from datetime import datetime\n",
    "from sklearn.utils import shuffle\n",
    "from sklearn.model_selection import train_test_split\n",
    "from sklearn import preprocessing\n",
    "\n",
    "from modules.DynamicsProfiles import *\n",
    "\n",
    "%matplotlib inline"
   ]
  },
  {
   "cell_type": "markdown",
   "metadata": {},
   "source": [
    "# Step 1: Data Processing\n",
    "### Cross Validated\n",
    "- https://stats.stackexchange.com/questions/109644/how-to-normalize-time-series\n",
    "- https://stats.stackexchange.com/questions/84321/why-and-when-do-we-normalize-time-series-data\n",
    "- https://stats.stackexchange.com/questions/90777/normalize-row-or-column-while-each-row-is-an-observation\n",
    "- https://stats.stackexchange.com/questions/41704/how-and-why-do-normalization-and-feature-scaling-work\n",
    "- https://stackoverflow.com/questions/43467597/should-i-normalize-my-features-before-throwing-them-into-rnn\n",
    "\n",
    "### Paper\n",
    "- http://www.cs.ucr.edu/~eamonn/SIGKDD_trillion.pdf\n",
    "\n",
    "### ML Mastery\n",
    "- https://machinelearningmastery.com/normalize-standardize-time-series-data-python/\n",
    "- https://machinelearningmastery.com/how-to-scale-data-for-long-short-term-memory-networks-in-python/\n",
    "\n",
    "### CS231n\n",
    "- http://cs231n.github.io/neural-networks-2/"
   ]
  },
  {
   "cell_type": "code",
   "execution_count": 4,
   "metadata": {
    "collapsed": true
   },
   "outputs": [],
   "source": [
    "def get_data():\n",
    "    data = {}\n",
    "    with h5py.File(\"data/model_db_100.h5\", \"r\") as infile:\n",
    "        label_names = infile.attrs[\"label_names\"]\n",
    "        for model_name, model_members in infile.items():\n",
    "            data[model_name] = [np.array(model_data) for model_data in model_members.values()]\n",
    "        \n",
    "    return data, label_names"
   ]
  },
  {
   "cell_type": "code",
   "execution_count": 5,
   "metadata": {
    "collapsed": true
   },
   "outputs": [],
   "source": [
    "data, label_names = get_data()"
   ]
  },
  {
   "cell_type": "code",
   "execution_count": 9,
   "metadata": {
    "collapsed": true
   },
   "outputs": [],
   "source": [
    "classes = data.keys()\n",
    "num_classes = len(classes)\n",
    "labels = np.identity(num_classes)\n",
    "label_names = []\n",
    "X_data = []\n",
    "y_data = []\n",
    "ONE_HOT = True\n",
    "\n",
    "for i, (model_name, model_data) in enumerate(data.items()):\n",
    "    label_names.append(model_name)\n",
    "    intensities = []\n",
    "    for intensity in model_data:\n",
    "        X_data.append(intensity)\n",
    "        if ONE_HOT:\n",
    "            y_data.append(labels[i])\n",
    "        else:\n",
    "            y_data.append(np.argmax(labels[i]))\n",
    "        \n",
    "X_data = np.array(X_data)\n",
    "y_data = np.array(y_data)"
   ]
  },
  {
   "cell_type": "markdown",
   "metadata": {},
   "source": [
    "### Scale Data"
   ]
  },
  {
   "cell_type": "code",
   "execution_count": 53,
   "metadata": {
    "collapsed": true
   },
   "outputs": [],
   "source": [
    "X_data_scaled = preprocessing.scale(X_data, axis=1)"
   ]
  },
  {
   "cell_type": "markdown",
   "metadata": {},
   "source": [
    "### Check data"
   ]
  },
  {
   "cell_type": "code",
   "execution_count": null,
   "metadata": {
    "collapsed": true
   },
   "outputs": [],
   "source": [
    "random_i = np.random.randint(X_data_scaled.shape[0])\n",
    "plt.plot(X_data[random_i])\n",
    "plt.title(label_names[np.argmax(y_data[random_i])])\n",
    "plt.show()"
   ]
  },
  {
   "cell_type": "markdown",
   "metadata": {},
   "source": [
    "### Train, Validation, Test splits"
   ]
  },
  {
   "cell_type": "code",
   "execution_count": null,
   "metadata": {
    "collapsed": true
   },
   "outputs": [],
   "source": [
    "X_data_expanded = np.expand_dims(X_data_scaled, axis=2)\n",
    "\n",
    "X_train, X_test, y_train, y_test = train_test_split(X_data_expanded, y_data)\n",
    "X_train, X_valid, y_train, y_valid = train_test_split(X_train, y_train)\n",
    "\n",
    "data = {\n",
    "    \"training\" : {\"X\" : X_train, \"y\" : y_train},\n",
    "    \"validation\" : {\"X\" : X_valid, \"y\" : y_valid},\n",
    "    \"test\" : {\"X\" : X_test, \"y\" : y_test}\n",
    "}"
   ]
  },
  {
   "cell_type": "markdown",
   "metadata": {},
   "source": [
    "# TensorFlow - Class Implementation"
   ]
  },
  {
   "cell_type": "markdown",
   "metadata": {},
   "source": [
    "## Dependencies"
   ]
  },
  {
   "cell_type": "code",
   "execution_count": 1,
   "metadata": {
    "collapsed": true
   },
   "outputs": [],
   "source": [
    "import tensorflow as tf\n",
    "import tensorflow.contrib.rnn as rnn"
   ]
  },
  {
   "cell_type": "markdown",
   "metadata": {},
   "source": [
    "# AutoEncoder\n",
    "### Example\n",
    "- https://github.com/aymericdamien/TensorFlow-Examples/blob/master/examples/3_NeuralNetworks/autoencoder.py"
   ]
  },
  {
   "cell_type": "code",
   "execution_count": 2,
   "metadata": {
    "collapsed": true
   },
   "outputs": [],
   "source": [
    "def autoencode_data(X_data):\n",
    "    seq_length = X_data.shape[1]\n",
    "    n_hidden_1 = 90\n",
    "    n_hidden_2 = 75\n",
    "    n_hidden_3 = 90\n",
    "    n_output = seq_length\n",
    "    \n",
    "    # Input / Outputs\n",
    "    X = tf.placeholder(tf.float32, [None, seq_length])\n",
    "    network = X\n",
    "    \n",
    "    # Encoder\n",
    "    W1 = tf.Variable(tf.random_normal([seq_length, n_hidden_1]))\n",
    "    b1 = tf.Variable(tf.random_normal([n_hidden_1]))\n",
    "    \n",
    "    network = tf.nn.tanh(tf.matmul(network, W1) + b1)\n",
    "    \n",
    "    W2 = tf.Variable(tf.random_normal([n_hidden_1, n_hidden_2]))\n",
    "    b2 = tf.Variable(tf.random_normal([n_hidden_2]))\n",
    "    \n",
    "    network = tf.matmul(network, W2) + b2\n",
    "    encoded_layer = network\n",
    "    \n",
    "    # Decoder\n",
    "    W3 = tf.Variable(tf.random_normal([n_hidden_2, n_hidden_3]))\n",
    "    b3 = tf.Variable(tf.random_normal([n_hidden_3]))\n",
    "    \n",
    "    network = tf.nn.tanh(tf.matmul(network, W3) + b3)\n",
    "    \n",
    "    W4 = tf.Variable(tf.random_normal([n_hidden_3, n_output]))\n",
    "    b4 = tf.Variable(tf.random_normal([n_output]))\n",
    "    \n",
    "    network = tf.matmul(network, W4) + b4\n",
    "    \n",
    "    # Eval\n",
    "    y_pred = network\n",
    "    y_true = X\n",
    "    \n",
    "    # Loss\n",
    "    loss = tf.reduce_mean(tf.square(y_pred - y_true))\n",
    "    \n",
    "    # Optimizers\n",
    "    optimizer = tf.train.AdamOptimizer()\n",
    "    train_op = optimizer.minimize(loss)\n",
    "    \n",
    "    # Init Variables\n",
    "    init = tf.global_variables_initializer()\n",
    "    \n",
    "    n_epochs = 50000\n",
    "    patience_threshold = 100\n",
    "    \n",
    "    with tf.Session() as sess:\n",
    "        init.run()\n",
    "        loss_history = []\n",
    "        for epoch_i in range(n_epochs):\n",
    "        \n",
    "            _, loss_val = sess.run([train_op, loss], feed_dict={X: X_data})\n",
    "            loss_history.append(loss_val)\n",
    "            \n",
    "            if epoch_i > 2 and loss_history[-2] - loss_history[-1] < 0.00001:\n",
    "                patience_counter +=1 \n",
    "            else:\n",
    "                patience_counter = 0\n",
    "                \n",
    "            # Display logs per step\n",
    "            sys.stdout.write('\\rStep: {:5d}/{:5d} -- Minibatch Loss: {:0.3f} -- Patience Counter: {:4d}/{:4d}\\t'.format(epoch_i, n_epochs, loss_val, patience_counter, patience_threshold))\n",
    "            \n",
    "            if patience_counter > patience_threshold:\n",
    "                print(\"\\nStopping Early!\")\n",
    "                break\n",
    "            \n",
    "        X_test_pred = y_pred.eval(feed_dict={X: X_data})\n",
    "        encoded_data = encoded_layer.eval(feed_dict={X: X_data})\n",
    "    return X_test_pred, encoded_data"
   ]
  },
  {
   "cell_type": "code",
   "execution_count": 183,
   "metadata": {},
   "outputs": [
    {
     "name": "stdout",
     "output_type": "stream",
     "text": [
      "Step: 49999/50000 -- Minibatch Loss: 3.930 -- Patience Counter:    0/ 100\t\t\t"
     ]
    }
   ],
   "source": [
    "predicted, encoded = autoencode_data(X_data)"
   ]
  },
  {
   "cell_type": "code",
   "execution_count": 184,
   "metadata": {},
   "outputs": [
    {
     "data": {
      "text/plain": [
       "<matplotlib.legend.Legend at 0x134861d50>"
      ]
     },
     "execution_count": 184,
     "metadata": {},
     "output_type": "execute_result"
    },
    {
     "data": {
      "image/png": "[encoded data removed]",
      "text/plain": [
       "<matplotlib.figure.Figure at 0x1349823d0>"
      ]
     },
     "metadata": {},
     "output_type": "display_data"
    }
   ],
   "source": [
    "index = 100\n",
    "plt.plot(X_data_scaled[index], label=\"Original\")\n",
    "plt.plot(predicted[index], label=\"Reconstruction\")\n",
    "plt.legend()"
   ]
  },
  {
   "cell_type": "code",
   "execution_count": 185,
   "metadata": {},
   "outputs": [
    {
     "data": {
      "text/plain": [
       "[<matplotlib.lines.Line2D at 0x13489bc10>]"
      ]
     },
     "execution_count": 185,
     "metadata": {},
     "output_type": "execute_result"
    },
    {
     "data": {
      "image/png": "[encoded data removed]",
      "text/plain": [
       "<matplotlib.figure.Figure at 0x1334ba350>"
      ]
     },
     "metadata": {},
     "output_type": "display_data"
    }
   ],
   "source": [
    "plt.plot(encoded[index])"
   ]
  },
  {
   "cell_type": "markdown",
   "metadata": {},
   "source": [
    "# VAE\n",
    "### Source\n",
    "- https://github.com/hwalsuklee/tensorflow-mnist-VAE/blob/master/vae.py"
   ]
  },
  {
   "cell_type": "code",
   "execution_count": 152,
   "metadata": {
    "collapsed": true
   },
   "outputs": [],
   "source": [
    "# Gaussian MLP as encoder\n",
    "def gaussian_MLP_encoder(x, n_hidden, n_output, keep_prob):\n",
    "    with tf.variable_scope(\"gaussian_MLP_encoder\"):\n",
    "        # initializers\n",
    "        w_init = tf.contrib.layers.variance_scaling_initializer()\n",
    "        b_init = tf.constant_initializer(0.)\n",
    "\n",
    "        # 1st hidden layer\n",
    "        w0 = tf.get_variable('w0', [x.get_shape()[1], n_hidden], initializer=w_init)\n",
    "        b0 = tf.get_variable('b0', [n_hidden], initializer=b_init)\n",
    "        h0 = tf.matmul(x, w0) + b0\n",
    "        h0 = tf.nn.elu(h0)\n",
    "        h0 = tf.nn.dropout(h0, keep_prob)\n",
    "\n",
    "        # 2nd hidden layer\n",
    "        w1 = tf.get_variable('w1', [h0.get_shape()[1], n_hidden], initializer=w_init)\n",
    "        b1 = tf.get_variable('b1', [n_hidden], initializer=b_init)\n",
    "        h1 = tf.matmul(h0, w1) + b1\n",
    "        h1 = tf.nn.tanh(h1)\n",
    "        h1 = tf.nn.dropout(h1, keep_prob)\n",
    "\n",
    "        # output layer\n",
    "        # borrowed from https: // github.com / altosaar / vae / blob / master / vae.py\n",
    "        wo = tf.get_variable('wo', [h1.get_shape()[1], n_output * 2], initializer=w_init)\n",
    "        bo = tf.get_variable('bo', [n_output * 2], initializer=b_init)\n",
    "        gaussian_params = tf.matmul(h1, wo) + bo\n",
    "\n",
    "        # The mean parameter is unconstrained\n",
    "        mean = gaussian_params[:, :n_output]\n",
    "        # The standard deviation must be positive. Parametrize with a softplus and\n",
    "        # add a small epsilon for numerical stability\n",
    "        stddev = 1e-6 + tf.nn.softplus(gaussian_params[:, n_output:])\n",
    "\n",
    "    return mean, stddev"
   ]
  },
  {
   "cell_type": "code",
   "execution_count": 153,
   "metadata": {
    "collapsed": true
   },
   "outputs": [],
   "source": [
    "# Bernoulli MLP as decoder\n",
    "def bernoulli_MLP_decoder(z, n_hidden, n_output, keep_prob, reuse=False):\n",
    "\n",
    "    with tf.variable_scope(\"bernoulli_MLP_decoder\", reuse=reuse):\n",
    "        # initializers\n",
    "        w_init = tf.contrib.layers.variance_scaling_initializer()\n",
    "        b_init = tf.constant_initializer(0.)\n",
    "\n",
    "        # 1st hidden layer\n",
    "        w0 = tf.get_variable('w0', [z.get_shape()[1], n_hidden], initializer=w_init)\n",
    "        b0 = tf.get_variable('b0', [n_hidden], initializer=b_init)\n",
    "        h0 = tf.matmul(z, w0) + b0\n",
    "        h0 = tf.nn.tanh(h0)\n",
    "        h0 = tf.nn.dropout(h0, keep_prob)\n",
    "\n",
    "        # 2nd hidden layer\n",
    "        w1 = tf.get_variable('w1', [h0.get_shape()[1], n_hidden], initializer=w_init)\n",
    "        b1 = tf.get_variable('b1', [n_hidden], initializer=b_init)\n",
    "        h1 = tf.matmul(h0, w1) + b1\n",
    "        h1 = tf.nn.elu(h1)\n",
    "        h1 = tf.nn.dropout(h1, keep_prob)\n",
    "\n",
    "        # output layer-mean\n",
    "        wo = tf.get_variable('wo', [h1.get_shape()[1], n_output], initializer=w_init)\n",
    "        bo = tf.get_variable('bo', [n_output], initializer=b_init)\n",
    "        y = tf.sigmoid(tf.matmul(h1, wo) + bo)\n",
    "\n",
    "    return y"
   ]
  },
  {
   "cell_type": "code",
   "execution_count": 149,
   "metadata": {
    "collapsed": true
   },
   "outputs": [],
   "source": [
    "# Gateway\n",
    "def autoencoder(x_hat, x, dim_img, dim_z, n_hidden, keep_prob):\n",
    "\n",
    "    # encoding\n",
    "    mu, sigma = gaussian_MLP_encoder(x_hat, n_hidden, dim_z, keep_prob)\n",
    "\n",
    "    # sampling by re-parameterization technique\n",
    "    z = mu + sigma * tf.random_normal(tf.shape(mu), 0, 1, dtype=tf.float32)\n",
    "\n",
    "    # decoding\n",
    "    y = bernoulli_MLP_decoder(z, n_hidden, dim_img, keep_prob)\n",
    "    y = tf.clip_by_value(y, 1e-8, 1 - 1e-8)\n",
    "\n",
    "    # loss\n",
    "    marginal_likelihood = tf.reduce_sum(x * tf.log(y) + (1 - x) * tf.log(1 - y), 1)\n",
    "    KL_divergence = 0.5 * tf.reduce_sum(tf.square(mu) + tf.square(sigma) - tf.log(1e-8 + tf.square(sigma)) - 1, 1)\n",
    "\n",
    "    marginal_likelihood = tf.reduce_mean(marginal_likelihood)\n",
    "    KL_divergence = tf.reduce_mean(KL_divergence)\n",
    "\n",
    "    ELBO = marginal_likelihood - KL_divergence\n",
    "\n",
    "    loss = -ELBO\n",
    "\n",
    "    return y, z, loss, -marginal_likelihood, KL_divergence"
   ]
  },
  {
   "cell_type": "code",
   "execution_count": 150,
   "metadata": {
    "collapsed": true
   },
   "outputs": [],
   "source": [
    "def decoder(z, dim_img, n_hidden):\n",
    "\n",
    "    y = bernoulli_MLP_decoder(z, n_hidden, dim_img, 1.0, reuse=True)\n",
    "\n",
    "    return y"
   ]
  },
  {
   "cell_type": "code",
   "execution_count": 180,
   "metadata": {
    "collapsed": true
   },
   "outputs": [],
   "source": [
    "def VAE(X_data, dim_z=20, n_hidden=500):\n",
    "    seq_length = X_data.shape[1]\n",
    "    \n",
    "    tf.reset_default_graph()\n",
    "    \n",
    "    # input placeholders\n",
    "    # In denoising-autoencoder, x_hat == x + noise, otherwise x_hat == x\n",
    "    x_hat = tf.placeholder(tf.float32, shape=[None, seq_length], name='input_img')\n",
    "    x = tf.placeholder(tf.float32, shape=[None, seq_length], name='target_img')\n",
    "\n",
    "    # dropout\n",
    "    keep_prob = tf.placeholder(tf.float32, name='keep_prob')\n",
    "\n",
    "    # input for PMLR\n",
    "    z_in = tf.placeholder(tf.float32, shape=[None, dim_z], name='latent_variable')\n",
    "\n",
    "    # network architecture\n",
    "    y, z, loss, neg_marginal_likelihood, KL_divergence = autoencoder(x_hat, x, seq_length, dim_z, n_hidden, keep_prob)\n",
    "\n",
    "    # optimization\n",
    "    train_op = tf.train.AdamOptimizer().minimize(loss)\n",
    "    \n",
    "    # Init Variables\n",
    "    init = tf.global_variables_initializer()\n",
    "    \n",
    "    with tf.Session() as sess:\n",
    "        init.run()\n",
    "        for epoch_i in range(n_epochs):\n",
    "            _, tot_loss, loss_likelihood, loss_divergence = sess.run(\n",
    "                    (train_op, loss, neg_marginal_likelihood, KL_divergence),\n",
    "                     feed_dict={x_hat: X_data, x: X_data, keep_prob : 0.9})\n",
    "          \n",
    "            # Display logs per step;\n",
    "            sys.stdout.write(\"\\r epoch: {} -- L_tot: {:3.2f} -- L_likelihood: {:3.2f} -- L_divergence: {:3.2f}\".format(epoch_i, tot_loss, loss_likelihood, loss_divergence))\n",
    "           "
   ]
  },
  {
   "cell_type": "code",
   "execution_count": 181,
   "metadata": {},
   "outputs": [
    {
     "name": "stdout",
     "output_type": "stream",
     "text": [
      " epoch: 499 -- L_tot: nan -- L_likelihood: nan -- L_divergence: nan\t30\t 122.58\t"
     ]
    }
   ],
   "source": [
    "VAE(X_data)"
   ]
  },
  {
   "cell_type": "markdown",
   "metadata": {},
   "source": [
    "## RNN Class"
   ]
  },
  {
   "cell_type": "markdown",
   "metadata": {},
   "source": [
    "- See this for LSTM implementation and other goodies\n",
    "\n",
    "https://stackoverflow.com/questions/40318812/tensorflow-rnn-weight-matrices-initialization"
   ]
  },
  {
   "cell_type": "code",
   "execution_count": null,
   "metadata": {
    "collapsed": true
   },
   "outputs": [],
   "source": [
    "class RNN(object):\n",
    "    def __init__(self, architecture, n_epochs=10, batch_size=256, seed=42):\n",
    "        self._architecture = architecture\n",
    "        self._n_epochs = n_epochs\n",
    "        self._batch_size = batch_size\n",
    "        \n",
    "        self._seed = seed\n",
    "        \n",
    "        date = str(datetime.now())\n",
    "        str_arch = \"_\".join(map(lambda y: str(y), self._architecture[\"layer_architecture\"]))\n",
    "        self._save_name = \"RNN_arch_{}__time_{}\".format(str_arch, date)\n",
    "        \n",
    "        self._build_network()\n",
    "        self._sess = tf.Session()\n",
    "        \n",
    "        # Save Metrics\n",
    "        self.metrics = {\n",
    "            \"epochs\" : [],\n",
    "            \"training\" : [],\n",
    "            \"validation\" : [],\n",
    "            \"loss\" : [],\n",
    "            \"test\" : None\n",
    "        }\n",
    "    \n",
    "    def _build_network(self):\n",
    "        n_hidden = self._architecture[\"layer_architecture\"]\n",
    "        n_layers = len(n_hidden)\n",
    "        n_inputs = self._architecture[\"n_inputs\"]\n",
    "        n_classes = self._architecture[\"n_classes\"]\n",
    "        seq_length = self._architecture[\"seq_length\"]\n",
    "        eta = self._architecture[\"eta\"]\n",
    "        self._cell_type = self._architecture[\"cell_type\"]\n",
    "        \n",
    "        # BUILD\n",
    "        # ***************************************************************\n",
    "        print(\"Building Model...\")\n",
    "        # Seed \n",
    "        tf.set_random_seed(self._seed)\n",
    "\n",
    "        # Reset default graph\n",
    "        tf.reset_default_graph()\n",
    "\n",
    "        # Inputs / Outputs\n",
    "        # ------------------------------------------------------------\n",
    "        X = tf.placeholder(tf.float32, [None, seq_length, n_inputs])\n",
    "        y = tf.placeholder(tf.float32, [None, n_classes])\n",
    "        # ------------------------------------------------------------\n",
    "\n",
    "        # RNN Cells\n",
    "        # ---------------------------------------------------------------------------------\n",
    "        if self._cell_type is \"LSTM\":\n",
    "            cells = [rnn.BasicLSTMCell(n_hidden[layer_i]) for layer_i in range(n_layers)]\n",
    "        elif self._cell_type is \"GRU\":\n",
    "            cells = [rnn.GRUCell(n_hidden[layer_i]) for layer_i in range(n_layers)]\n",
    "        else:\n",
    "            cells = [rnn.BasicRNNCell(n_hidden[layer_i]) for layer_i in range(n_layers)]\n",
    "            \n",
    "        multi_lstm_cells = rnn.MultiRNNCell(cells, state_is_tuple=True)\n",
    "        outputs, states = tf.nn.dynamic_rnn(multi_lstm_cells, X, dtype=tf.float32)\n",
    "        # ---------------------------------------------------------------------------------\n",
    "\n",
    "        # Fully Connected Layer\n",
    "        # --------------------------------\n",
    "        if self._cell_type is \"LSTM\":\n",
    "            final_state = states[-1][-1]\n",
    "        else:\n",
    "            final_state = states[-1]\n",
    "            \n",
    "        input_shape = final_state.get_shape().as_list()[-1]\n",
    "        with tf.variable_scope(\"fc_layer\"):\n",
    "            W = tf.get_variable(\"W_fc\", [input_shape, num_classes], dtype=tf.float32, initializer=tf.truncated_normal_initializer(stddev=1.0 / np.sqrt(input_shape)))\n",
    "            b = tf.get_variable(\"b_fc\", [num_classes], initializer=tf.constant_initializer(0.0))\n",
    "\n",
    "        logits = tf.matmul(final_state, W) + b\n",
    "        # --------------------------------\n",
    "\n",
    "        # Xentropy and loss\n",
    "        # --------------------------------\n",
    "        xentropy = tf.nn.softmax_cross_entropy_with_logits(logits=logits, labels=y)\n",
    "        loss = tf.reduce_mean(xentropy)\n",
    "        # --------------------------------\n",
    "\n",
    "        # Optimizer\n",
    "        # --------------------------------\n",
    "        optimizer = tf.train.AdamOptimizer(learning_rate=eta)\n",
    "        train_op = optimizer.minimize(loss)\n",
    "        # --------------------------------\n",
    "\n",
    "        # Evaluation\n",
    "        # --------------------------------\n",
    "        prediction = tf.argmax(tf.nn.softmax(logits), 1)\n",
    "        y_actual = tf.argmax(y, 1)\n",
    "\n",
    "        correct_predictions = tf.equal(prediction, y_actual)\n",
    "        accuracy = tf.reduce_mean(tf.cast(correct_predictions, tf.float32))\n",
    "        # --------------------------------\n",
    "\n",
    "        # SAVER\n",
    "        saver = tf.train.Saver()\n",
    "        # ***************************************************************\n",
    "\n",
    "        # Global Variables Initializer\n",
    "        init = tf.global_variables_initializer()\n",
    "        \n",
    "        self._model = {\n",
    "            \"X\" : X,\n",
    "            \"y\" : y,\n",
    "            \"seq_length\" : seq_length,\n",
    "            \"loss\" : loss,\n",
    "            \"train_op\" : train_op,\n",
    "            \"accuracy\" : accuracy,\n",
    "            \"init\" : init,\n",
    "            \"saver\" : saver\n",
    "        }\n",
    "    \n",
    "    def train(self, data):\n",
    "        \n",
    "        # Parse Data\n",
    "        X_train = data[\"training\"][\"X\"]\n",
    "        y_train = data[\"training\"][\"y\"]\n",
    "        X_valid = data[\"validation\"][\"X\"]\n",
    "        y_valid = data[\"validation\"][\"y\"]\n",
    "        X_test = data[\"test\"][\"X\"]\n",
    "        y_test = data[\"test\"][\"y\"]\n",
    "        \n",
    "        \n",
    "        # Parse out train, valid, test data\n",
    "        n_batches = X_train.shape[0] // self._batch_size\n",
    "        \n",
    "        # TRAIN\n",
    "        # ***************************************************************\n",
    "        print(\"Training...\")\n",
    "\n",
    "        self._sess.run(self._model[\"init\"])\n",
    "        batch_ave = 0\n",
    "        \n",
    "        try:\n",
    "            for epoch_i in range(self._n_epochs):\n",
    "                epoch_loss = 0\n",
    "                train_acc = 0\n",
    "                batch_deltas = []\n",
    "                print(\"\\nEpoch {}/{}\\n\".format(epoch_i+1, self._n_epochs))\n",
    "                X_shuff, y_shuff = shuffle(X_train, y_train)\n",
    "                for batch_i in range(n_batches):\n",
    "                    batch_t0 = time.time()\n",
    "                    \n",
    "                    X_batch = X_shuff[batch_i*self._batch_size:batch_i*self._batch_size+self._batch_size]\n",
    "                    y_batch = y_shuff[batch_i*self._batch_size:batch_i*self._batch_size+self._batch_size]\n",
    "\n",
    "                    ops = [self._model[\"train_op\"], self._model[\"loss\"], self._model[\"accuracy\"]]\n",
    "                    train_dict = {\n",
    "                        self._model[\"X\"] : X_batch,\n",
    "                        self._model[\"y\"] : y_batch\n",
    "                    }\n",
    "\n",
    "                    _, batch_loss, batch_train_acc = self._sess.run(ops, feed_dict=train_dict)\n",
    "\n",
    "                    epoch_loss += batch_loss / n_batches\n",
    "                    train_acc += batch_train_acc / n_batches\n",
    "\n",
    "                    # Progress bar\n",
    "                    # ------------------------------------------------\n",
    "                    batch_tf = time.time()\n",
    "                    batch_delta = batch_tf - batch_t0\n",
    "                    batch_deltas.append(batch_delta)\n",
    "                    batch_ave = np.mean(batch_deltas)\n",
    "                    eta = batch_ave * (n_batches - batch_i+1)\n",
    "                    eta_min = int(eta // 60)\n",
    "                    eta_sec = int(eta % 60)\n",
    "\n",
    "                    bar_length = 20\n",
    "                    progress = int((batch_i+1) / float(n_batches) * bar_length)\n",
    "                    percent_complete = (batch_i+1) / float(n_batches) * 100\n",
    "\n",
    "                    sys.stdout.write(\"\\r{}/{} [{:21s}] {:5.2f}% - ETA {:2d}m {:2d}s - Loss: {:0.3f}\".format(batch_i+1, n_batches, \"=\"*progress+\">\"+\"-\"*(bar_length-progress), percent_complete, eta_min, eta_sec, epoch_loss))\n",
    "                    # ------------------------------------------------\n",
    "\n",
    "                # Validation\n",
    "                # ------------------------------------------------\n",
    "                valid_dict = {\n",
    "                    self._model[\"X\"] : X_valid,\n",
    "                    self._model[\"y\"] : y_valid\n",
    "                }\n",
    "\n",
    "                valid_acc = self._sess.run(self._model[\"accuracy\"], feed_dict=valid_dict)\n",
    "                # ------------------------------------------------\n",
    "\n",
    "                # Save metrics\n",
    "                # ------------------------------------------------\n",
    "                self.metrics[\"epochs\"].append(epoch_i)\n",
    "                self.metrics[\"loss\"].append(epoch_loss)\n",
    "                self.metrics[\"training\"].append(train_acc)\n",
    "                self.metrics[\"validation\"].append(valid_acc)\n",
    "                # ------------------------------------------------\n",
    "\n",
    "                # Print\n",
    "                print(\"\\nLoss: {:0.3f} -- Train Acc: {:0.3f} -- Valid Acc: {:0.3f}\\n\".format(epoch_loss, train_acc, valid_acc))\n",
    "\n",
    "            # Test\n",
    "            # ------------------------------------------------\n",
    "            test_dict = {\n",
    "                self._model[\"X\"] : X_test,\n",
    "                self._model[\"y\"] : y_test\n",
    "            }\n",
    "            test_acc = self._sess.run(self._model[\"accuracy\"], feed_dict=test_dict)\n",
    "            # ------------------------------------------------\n",
    "\n",
    "            # Save metrics\n",
    "            self.metrics[\"test\"] = test_acc\n",
    "\n",
    "            # Print\n",
    "            print(\"\\nTest accuracy: {:0.3f}\".format(test_acc))\n",
    "\n",
    "            # SAVE\n",
    "            self._model[\"saver\"].save(self._sess, \"models/{}.ckpt\".format(self._save_name))\n",
    "            # ***************************************************************\n",
    "        \n",
    "        except KeyboardInterrupt:\n",
    "            # SAVE\n",
    "            self._model[\"saver\"].save(self._sess, \"models/RNN_custom.ckpt\")\n",
    "\n",
    "        "
   ]
  },
  {
   "cell_type": "markdown",
   "metadata": {},
   "source": [
    "### Run Model"
   ]
  },
  {
   "cell_type": "code",
   "execution_count": null,
   "metadata": {
    "collapsed": true
   },
   "outputs": [],
   "source": [
    "def run(arch, n_epochs):\n",
    "    rnn_arch = {\n",
    "        \"layer_architecture\" : arch,\n",
    "        \"n_classes\" : num_classes,\n",
    "        \"seq_length\" : X_data.shape[1],\n",
    "        \"n_inputs\" : 1,\n",
    "        \"eta\" : 0.01,\n",
    "        \"cell_type\" : \"GRU\"\n",
    "    }\n",
    "\n",
    "    rnn_params = {\n",
    "        \"architecture\" : rnn_arch,\n",
    "        \"n_epochs\" : n_epochs,\n",
    "        \"batch_size\" : 1024\n",
    "    }\n",
    "    rnn_clf = RNN(**rnn_params)\n",
    "    \n",
    "    rnn_clf.train(data)\n",
    "    \n",
    "    return rnn_clf"
   ]
  },
  {
   "cell_type": "markdown",
   "metadata": {},
   "source": [
    "### Train Model"
   ]
  },
  {
   "cell_type": "code",
   "execution_count": null,
   "metadata": {
    "collapsed": true
   },
   "outputs": [],
   "source": [
    "archs = [[32, 16, 8], [32, 32, 16], [64, 32, 16], [128, 64, 32], [128, 64, 32, 16]]\n",
    "n_epochs = [25, 25, 25, 35, 50]\n",
    "clfs = [run(arch, n_epoch) for arch, n_epoch in zip(archs, n_epochs)]"
   ]
  },
  {
   "cell_type": "markdown",
   "metadata": {},
   "source": [
    "### Plotting"
   ]
  },
  {
   "cell_type": "code",
   "execution_count": null,
   "metadata": {
    "collapsed": true,
    "scrolled": true
   },
   "outputs": [],
   "source": [
    "fig, axes = plt.subplots(len(clfs), 1, figsize=(20,15))\n",
    "\n",
    "for i, rnn_clf in enumerate(clfs):\n",
    "    arch = archs[i]\n",
    "    epochs = rnn_clf.metrics[\"epochs\"]\n",
    "    loss = rnn_clf.metrics[\"loss\"]\n",
    "    training = rnn_clf.metrics[\"training\"]\n",
    "    validation = rnn_clf.metrics[\"validation\"]\n",
    "    test_score = rnn_clf.metrics[\"test\"]\n",
    "    maximum = float(np.max(loss))\n",
    "    minimum = float(np.min(loss))\n",
    "    loss_normed = [(x - minimum) / maximum for x in loss]\n",
    "\n",
    "    axes[i].plot(epochs, training, \"r\", label=\"Training\")\n",
    "    axes[i].plot(epochs, validation, \"b--\", label=\"Validation\")\n",
    "    axes[i].plot(epochs, loss_normed, \"orange\", label=\"Loss\")\n",
    "    axes[i].set_title(\"Arch: {} -- Cell: {} \\n Test: {:0.2f}\".format(arch, \"GRU\", test_score))\n",
    "    axes[i].set_ylim([0, 1.0])\n",
    "    axes[i].set_xlabel(\"Epochs\")\n",
    "    axes[i].set_ylabel(\"Accuracy\")\n",
    "    axes[i].legend()\n",
    "    \n",
    "fig.subplots_adjust(hspace=.75)\n",
    "plt.savefig(\"results.png\")\n",
    "plt.show()"
   ]
  },
  {
   "cell_type": "markdown",
   "metadata": {},
   "source": [
    "# TF Implementation - Function Version"
   ]
  },
  {
   "cell_type": "code",
   "execution_count": null,
   "metadata": {
    "collapsed": true
   },
   "outputs": [],
   "source": [
    "def RNN_fxn(n_epochs=10, batch_size=256, seed=42):\n",
    "    \n",
    "    # PARAMS\n",
    "    num_batches = X_train.shape[0] // batch_size\n",
    "    \n",
    "    seq_length = X_train.shape[1]\n",
    "    num_hidden = [128, 128]\n",
    "    num_layers = len(num_hidden)\n",
    "    num_inputs = 1\n",
    "    \n",
    "    \n",
    "    # Save Metrics\n",
    "    metrics = {\n",
    "        \"epochs\" : [],\n",
    "        \"training\" : [],\n",
    "        \"validation\" : [],\n",
    "        \"loss\" : [],\n",
    "        \"test\" : None\n",
    "    }\n",
    "    \n",
    "    # BUILD\n",
    "    # ***************************************************************\n",
    "    print(\"Building Model...\")\n",
    "    # Seed \n",
    "    tf.set_random_seed(seed)\n",
    "    \n",
    "    # Reset default graph\n",
    "    tf.reset_default_graph()\n",
    "\n",
    "    # Inputs / Outputs\n",
    "    # --------------------\n",
    "    X = tf.placeholder(tf.float32, [None, seq_length, num_inputs])\n",
    "    y = tf.placeholder(tf.float32, [None, num_classes])\n",
    "    # --------------------\n",
    "    \n",
    "    # RNN Cells\n",
    "    # --------------------\n",
    "    cells = [rnn.BasicLSTMCell(num_hidden[layer_i]) for layer_i in range(num_layers)]\n",
    "    multi_lstm_cells = rnn.MultiRNNCell(cells, state_is_tuple=True)\n",
    "    outputs, states = tf.nn.dynamic_rnn(multi_lstm_cells, X, dtype=tf.float32)\n",
    "    # --------------------\n",
    "    \n",
    "    # Fully Connected Layer\n",
    "    # --------------------------------\n",
    "    final_state = states[-1][-1]\n",
    "    input_shape = final_state.get_shape().as_list()[-1]\n",
    "    with tf.variable_scope(\"fc_layer\"):\n",
    "        W = tf.get_variable(\"W_fc\", [input_shape, num_classes], tf.float32, tf.random_normal_initializer(stddev=1.0 / np.sqrt(input_shape)))\n",
    "        b = tf.get_variable(\"b_fc\", [num_classes], initializer=tf.constant_initializer(0.0))\n",
    "    \n",
    "    logits = tf.matmul(final_state, W) + b\n",
    "    # --------------------------------\n",
    "    \n",
    "    # Xentropy and loss\n",
    "    # --------------------------------\n",
    "    xentropy = tf.nn.softmax_cross_entropy_with_logits(logits=logits, labels=y)\n",
    "    loss = tf.reduce_mean(xentropy)\n",
    "    # --------------------------------\n",
    "    \n",
    "    # Optimizer\n",
    "    # --------------------------------\n",
    "    optimizer = tf.train.AdamOptimizer()\n",
    "    train_op = optimizer.minimize(loss)\n",
    "    # --------------------------------\n",
    "    \n",
    "    # Evaluation\n",
    "    # --------------------------------\n",
    "    prediction = tf.argmax(tf.nn.softmax(logits), 1)\n",
    "    y_actual = tf.argmax(y, 1)\n",
    "    \n",
    "    correct_predictions = tf.equal(prediction, y_actual)\n",
    "    accuracy = tf.reduce_mean(tf.cast(correct_predictions, tf.float32))\n",
    "    # --------------------------------\n",
    "    \n",
    "    # Global Variables Initializer\n",
    "    init = tf.global_variables_initializer()\n",
    "    \n",
    "    # SAVER\n",
    "    saver = tf.train.Saver()\n",
    "    # ***************************************************************\n",
    "    \n",
    "    \n",
    "    # TRAIN\n",
    "    # ***************************************************************\n",
    "    print(\"Training...\")\n",
    "    \n",
    "    with tf.Session() as sess:\n",
    "        init.run()\n",
    "        for epoch_i in range(n_epochs):\n",
    "            epoch_loss = 0\n",
    "            train_acc = 0\n",
    "            X_shuff, y_shuff = shuffle(X_train, y_train)\n",
    "            for batch_i in range(num_batches):\n",
    "                X_batch = X_shuff[batch_i*batch_size:batch_i*batch_size+batch_size]\n",
    "                y_batch = y_shuff[batch_i*batch_size:batch_i*batch_size+batch_size]\n",
    "\n",
    "                ops = [train_op, loss, accuracy]\n",
    "                train_dict = {\n",
    "                    X : X_batch,\n",
    "                    y : y_batch\n",
    "                }\n",
    "                \n",
    "                _, batch_loss, batch_train_acc = sess.run(ops, feed_dict=train_dict)\n",
    "                \n",
    "                epoch_loss += batch_loss / num_batches\n",
    "                train_acc += batch_train_acc / num_batches\n",
    "                \n",
    "                # Progress bar\n",
    "                # ------------------------------------------------\n",
    "                bar_length = 30\n",
    "                progress = int((batch_i+1) / float(num_batches) * bar_length)\n",
    "                percent_complete = (batch_i+1) / float(num_batches) * 100\n",
    "                sys.stdout.write(\"\\rBatch {}/{} -- Loss: {:0.3f} -- Progress: [{:31s}] {:5.2f}% \".format(batch_i, num_batches, epoch_loss, \"=\"*progress+\">\"+\"-\"*(bar_length-progress), percent_complete))\n",
    "                # ------------------------------------------------\n",
    "            \n",
    "            # Validation\n",
    "            # ------------------------------------------------\n",
    "            valid_dict = {\n",
    "                X : X_valid,\n",
    "                y : y_valid\n",
    "            }\n",
    "            \n",
    "            valid_acc = accuracy.eval(feed_dict=valid_dict)\n",
    "            # ------------------------------------------------\n",
    "            \n",
    "            # Save metrics\n",
    "            # ------------------------------------------------\n",
    "            metrics[\"epochs\"].append(epoch_i)\n",
    "            metrics[\"loss\"].append(epoch_loss)\n",
    "            metrics[\"training\"].append(train_acc)\n",
    "            metrics[\"validation\"].append(valid_acc)\n",
    "            # ------------------------------------------------\n",
    "\n",
    "            # Print\n",
    "            print(\"\\nEpoch {}/{} -- Loss: {:0.3f} -- Train Acc: {:0.3f} -- Valid Acc: {:0.3f}\\n\".format(epoch_i+1, self._n_epochs, epoch_loss, train_acc, valid_acc))\n",
    "                \n",
    "        # Test\n",
    "        # ------------------------------------------------\n",
    "        test_dict = {\n",
    "            X : X_test,\n",
    "            y : y_test\n",
    "        }\n",
    "        test_acc = accuracy.eval(feed_dict=test_dict)\n",
    "        # ------------------------------------------------\n",
    "        \n",
    "        # Save metrics\n",
    "        metrics[\"test\"] = test_acc\n",
    "        \n",
    "        # Print\n",
    "        print(\"\\nTest accuracy: {:0.3f}\".format(test_acc))\n",
    "        \n",
    "        # SAVE\n",
    "        saver.save(sess, \"models/RNN_custom.ckpt\")\n",
    "    # ***************************************************************\n",
    "    \n",
    "    return metrics"
   ]
  },
  {
   "cell_type": "code",
   "execution_count": null,
   "metadata": {
    "collapsed": true
   },
   "outputs": [],
   "source": [
    "metrics = RNN_fxn(n_epochs=5)"
   ]
  },
  {
   "cell_type": "markdown",
   "metadata": {},
   "source": [
    "# Keras Model"
   ]
  },
  {
   "cell_type": "code",
   "execution_count": null,
   "metadata": {
    "collapsed": true
   },
   "outputs": [],
   "source": [
    "from keras.models import Sequential\n",
    "from keras.layers import Dense\n",
    "from keras.layers import LSTM\n",
    "\n",
    "# Params\n",
    "look_back = 1\n",
    "seq_length = X_train.shape[1]\n",
    "n_epochs = 10\n",
    "\n",
    "# Build Model\n",
    "# ========================================================================\n",
    "model = Sequential()\n",
    "model.add(LSTM(32, return_sequences=True, input_shape=(seq_length, look_back)))  # returns a sequence of vectors of dimension 32\n",
    "model.add(LSTM(32, return_sequences=True))  # returns a sequence of vectors of dimension 32\n",
    "model.add(LSTM(32))\n",
    "model.add(Dense(num_classes, activation='softmax'))\n",
    "model.compile(loss='categorical_crossentropy', optimizer='adam', metrics=['accuracy'])\n",
    "# ========================================================================\n",
    "\n",
    "# Train\n",
    "model.fit(X_train, y_train, epochs=n_epochs, batch_size=32, verbose=1)\n",
    "\n",
    "# Scores\n",
    "train_score = model.evaluate(X_train, y_train, verbose=1)\n",
    "test_score = model.evaluate(X_test, y_test, verbose=1)\n",
    "print(\"Train Score: {:0.2f} -- Test Score: {:0.2f}\".format(train_score[1], test_score[1]))"
   ]
  }
 ],
 "metadata": {
  "kernelspec": {
   "display_name": "Python 2",
   "language": "python",
   "name": "python2"
  },
  "language_info": {
   "codemirror_mode": {
    "name": "ipython",
    "version": 2
   },
   "file_extension": ".py",
   "mimetype": "text/x-python",
   "name": "python",
   "nbconvert_exporter": "python",
   "pygments_lexer": "ipython2",
   "version": "2.7.13"
  }
 },
 "nbformat": 4,
 "nbformat_minor": 2
}
