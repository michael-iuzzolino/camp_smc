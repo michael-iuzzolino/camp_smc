{
 "cells": [
  {
   "cell_type": "markdown",
   "metadata": {},
   "source": [
    "# Dependencies"
   ]
  },
  {
   "cell_type": "code",
   "execution_count": 1,
   "metadata": {
    "collapsed": true
   },
   "outputs": [],
   "source": [
    "import sys\n",
    "import numpy as np\n",
    "import h5py\n",
    "import matplotlib.pyplot as plt\n",
    "import time\n",
    "from datetime import datetime\n",
    "from sklearn.utils import shuffle\n",
    "from sklearn.model_selection import train_test_split\n",
    "from sklearn import preprocessing\n",
    "\n",
    "from modules.DynamicsProfiles import *\n",
    "\n",
    "%matplotlib inline"
   ]
  },
  {
   "cell_type": "markdown",
   "metadata": {},
   "source": [
    "# Step 1: Data Processing"
   ]
  },
  {
   "cell_type": "code",
   "execution_count": 2,
   "metadata": {
    "collapsed": true
   },
   "outputs": [],
   "source": [
    "def get_data():\n",
    "    data = {}\n",
    "    with h5py.File(\"data/model_db.h5\", \"r\") as infile:\n",
    "        label_names = infile.attrs[\"label_names\"]\n",
    "        for model_name, model_members in infile.items():\n",
    "            data[model_name] = [np.array(model_data) for model_data in model_members.values()]\n",
    "        \n",
    "    return data, label_names"
   ]
  },
  {
   "cell_type": "code",
   "execution_count": 3,
   "metadata": {
    "collapsed": true
   },
   "outputs": [],
   "source": [
    "data, label_names = get_data()"
   ]
  },
  {
   "cell_type": "code",
   "execution_count": 4,
   "metadata": {
    "collapsed": true
   },
   "outputs": [],
   "source": [
    "classes = data.keys()\n",
    "num_classes = len(classes)\n",
    "labels = np.identity(num_classes)\n",
    "label_names = []\n",
    "X_data = []\n",
    "y_data = []\n",
    "ONE_HOT = True\n",
    "\n",
    "for i, (model_name, model_data) in enumerate(data.items()):\n",
    "    label_names.append(model_name)\n",
    "    intensities = []\n",
    "    for intensity in model_data:\n",
    "        X_data.append(intensity)\n",
    "        if ONE_HOT:\n",
    "            y_data.append(labels[i])\n",
    "        else:\n",
    "            y_data.append(np.argmax(labels[i]))\n",
    "        \n",
    "X_data = np.array(X_data)\n",
    "y_data = np.array(y_data)"
   ]
  },
  {
   "cell_type": "markdown",
   "metadata": {},
   "source": [
    "### Scale Data"
   ]
  },
  {
   "cell_type": "code",
   "execution_count": 5,
   "metadata": {
    "collapsed": true
   },
   "outputs": [],
   "source": [
    "X_data_scaled = preprocessing.scale(X_data, axis=1)"
   ]
  },
  {
   "cell_type": "markdown",
   "metadata": {},
   "source": [
    "### Check data"
   ]
  },
  {
   "cell_type": "code",
   "execution_count": 6,
   "metadata": {},
   "outputs": [
    {
     "data": {
      "image/png": "[encoded data removed]",
      "text/plain": [
       "<matplotlib.figure.Figure at 0x117e18c90>"
      ]
     },
     "metadata": {},
     "output_type": "display_data"
    }
   ],
   "source": [
    "random_i = np.random.randint(X_data_scaled.shape[0])\n",
    "plt.plot(X_data[random_i])\n",
    "plt.title(label_names[np.argmax(y_data[random_i])])\n",
    "plt.show()"
   ]
  },
  {
   "cell_type": "markdown",
   "metadata": {},
   "source": [
    "### Train, Validation, Test splits"
   ]
  },
  {
   "cell_type": "code",
   "execution_count": 7,
   "metadata": {
    "collapsed": true
   },
   "outputs": [],
   "source": [
    "X_data_expanded = np.expand_dims(X_data_scaled, axis=2)\n",
    "\n",
    "X_train, X_test, y_train, y_test = train_test_split(X_data_expanded, y_data)\n",
    "X_train, X_valid, y_train, y_valid = train_test_split(X_train, y_train)\n",
    "\n",
    "full_data = {\n",
    "    \"num_classes\" : num_classes,\n",
    "    \"X_train\" : X_train,\n",
    "    \"y_train\" : y_train,\n",
    "    \"X_valid\" : X_valid,\n",
    "    \"y_valid\" : y_valid,\n",
    "    \"X_test\" : X_test,\n",
    "    \"y_test\" : y_test\n",
    "}"
   ]
  },
  {
   "cell_type": "markdown",
   "metadata": {},
   "source": [
    "# TensorFlow - Class Implementation"
   ]
  },
  {
   "cell_type": "markdown",
   "metadata": {},
   "source": [
    "## Dependencies"
   ]
  },
  {
   "cell_type": "code",
   "execution_count": 8,
   "metadata": {
    "collapsed": true
   },
   "outputs": [],
   "source": [
    "import tensorflow as tf\n",
    "import tensorflow.contrib.rnn as rnn"
   ]
  },
  {
   "cell_type": "markdown",
   "metadata": {},
   "source": [
    "## RNN Class"
   ]
  },
  {
   "cell_type": "markdown",
   "metadata": {},
   "source": [
    "- See this for LSTM implementation and other goodies\n",
    "\n",
    "https://stackoverflow.com/questions/40318812/tensorflow-rnn-weight-matrices-initialization"
   ]
  },
  {
   "cell_type": "code",
   "execution_count": 104,
   "metadata": {},
   "outputs": [],
   "source": [
    "class RNN(object):\n",
    "    def __init__(self, architecture, n_epochs=10, batch_size=256, seed=42):\n",
    "        self._architecture = architecture\n",
    "        self._n_epochs = n_epochs\n",
    "        self._batch_size = batch_size\n",
    "        \n",
    "        self._seed = seed\n",
    "        \n",
    "        date = str(datetime.now())\n",
    "        str_arch = \"_\".join(map(lambda y: str(y), self._architecture[\"layer_architecture\"]))\n",
    "        self._save_name = \"RNN_arch_{}__time_{}\".format(str_arch, date)\n",
    "        \n",
    "        self._build_network()\n",
    "        self._sess = tf.Session()\n",
    "            \n",
    "        self._progress_bar_length = 20\n",
    "        \n",
    "    \n",
    "    def _build_network(self):\n",
    "        n_hidden = self._architecture[\"layer_architecture\"]\n",
    "        n_layers = len(n_hidden)\n",
    "        n_inputs = self._architecture[\"n_inputs\"]\n",
    "        n_classes = self._architecture[\"n_classes\"]\n",
    "        seq_length = self._architecture[\"seq_length\"]\n",
    "        eta = self._architecture[\"eta\"]\n",
    "        self._cell_type = self._architecture[\"cell_type\"]\n",
    "        \n",
    "        # BUILD\n",
    "        # ***************************************************************\n",
    "        print(\"Building Model...\")\n",
    "        # Seed \n",
    "        tf.set_random_seed(self._seed)\n",
    "\n",
    "        # Reset default graph\n",
    "        tf.reset_default_graph()\n",
    "\n",
    "        # Inputs / Outputs\n",
    "        # ------------------------------------------------------------\n",
    "        X = tf.placeholder(tf.float32, [None, seq_length, n_inputs])\n",
    "        y = tf.placeholder(tf.float32, [None, n_classes])\n",
    "        # ------------------------------------------------------------\n",
    "\n",
    "        # RNN Cells\n",
    "        # ---------------------------------------------------------------------------------\n",
    "        if self._cell_type is \"LSTM\":\n",
    "            cells = [rnn.BasicLSTMCell(n_hidden[layer_i]) for layer_i in range(n_layers)]\n",
    "        elif self._cell_type is \"GRU\":\n",
    "            cells = [rnn.GRUCell(n_hidden[layer_i]) for layer_i in range(n_layers)]\n",
    "        else:\n",
    "            cells = [rnn.BasicRNNCell(n_hidden[layer_i]) for layer_i in range(n_layers)]\n",
    "            \n",
    "        multi_cells = rnn.MultiRNNCell(cells, state_is_tuple=True)\n",
    "        outputs, states = tf.nn.dynamic_rnn(multi_cells, X, dtype=tf.float32)\n",
    "        # ---------------------------------------------------------------------------------\n",
    "\n",
    "        # Fully Connected Layer\n",
    "        # --------------------------------\n",
    "        if self._cell_type is \"LSTM\":\n",
    "            final_state = states[-1][-1]\n",
    "        else:\n",
    "            final_state = states[-1]\n",
    "            \n",
    "        input_shape = final_state.get_shape().as_list()[-1]\n",
    "        with tf.variable_scope(\"fc_layer\"):\n",
    "            W = tf.get_variable(\"W_fc\", [input_shape, num_classes], dtype=tf.float32, initializer=tf.truncated_normal_initializer(stddev=1.0 / np.sqrt(input_shape)))\n",
    "            b = tf.get_variable(\"b_fc\", [num_classes], initializer=tf.constant_initializer(0.0))\n",
    "\n",
    "        logits = tf.matmul(final_state, W) + b\n",
    "        # --------------------------------\n",
    "\n",
    "        # Xentropy and loss\n",
    "        # --------------------------------\n",
    "        xentropy = tf.nn.softmax_cross_entropy_with_logits(logits=logits, labels=y)\n",
    "        loss = tf.reduce_mean(xentropy)\n",
    "        # --------------------------------\n",
    "\n",
    "        # Optimizer\n",
    "        # --------------------------------\n",
    "        optimizer = tf.train.AdamOptimizer(learning_rate=eta)\n",
    "        train_op = optimizer.minimize(loss)\n",
    "        # --------------------------------\n",
    "\n",
    "        # Evaluation\n",
    "        # --------------------------------\n",
    "        prediction = tf.argmax(tf.nn.softmax(logits), 1)\n",
    "        y_actual = tf.argmax(y, 1)\n",
    "\n",
    "        correct_predictions = tf.equal(prediction, y_actual)\n",
    "        accuracy = tf.reduce_mean(tf.cast(correct_predictions, tf.float32))\n",
    "        # --------------------------------\n",
    "\n",
    "        # SAVER\n",
    "        saver = tf.train.Saver()\n",
    "        # ***************************************************************\n",
    "\n",
    "        # Global Variables Initializer\n",
    "        init = tf.global_variables_initializer()\n",
    "        \n",
    "        self._model = {\n",
    "            \"X\" : X,\n",
    "            \"y\" : y,\n",
    "            \"seq_length\" : seq_length,\n",
    "            \"loss\" : loss,\n",
    "            \"prediction\" : prediction,\n",
    "            \"y_actual\" : y_actual,\n",
    "            \"train_op\" : train_op,\n",
    "            \"accuracy\" : accuracy,\n",
    "            \"init\" : init,\n",
    "            \"saver\" : saver\n",
    "        }\n",
    "\n",
    "    def _progress_bar(self, batch_t0, batch_i, n_batches, batch_deltas, epoch_loss=None):\n",
    "        # Progress bar\n",
    "        # ------------------------------------------------\n",
    "        batch_tf = time.time()\n",
    "        batch_delta = batch_tf - batch_t0\n",
    "        batch_deltas.append(batch_delta)\n",
    "        batch_ave = np.mean(batch_deltas)\n",
    "        eta = batch_ave * (n_batches - batch_i+1)\n",
    "        eta_min = int(eta // 60)\n",
    "        eta_sec = int(eta % 60)\n",
    "\n",
    "        progress = int((batch_i+1) / float(n_batches) * self._progress_bar_length)\n",
    "        percent_complete = (batch_i+1) / float(n_batches) * 100\n",
    "        \n",
    "        if percent_complete < 100:\n",
    "            bar_symbol = \"=\"*progress+\">\"+\"-\"*(self._progress_bar_length-progress)\n",
    "        else:\n",
    "            bar_symbol = \"=\"*(progress+1)\n",
    "\n",
    "        sys.stdout.write(\"\\r{}/{} [{:{progress_bar_i}s}] {:5.2f}% - ETA {:2d}m {:2d}s - Loss: {:0.3f}\".format(batch_i+1, n_batches, bar_symbol, percent_complete, eta_min, eta_sec, epoch_loss if epoch_loss else 0, progress_bar_i=self._progress_bar_length+1))\n",
    "        # ------------------------------------------------\n",
    "        \n",
    "        \n",
    "    def _update_confusion_matrix(self, test_set_id, data_dict, epoch_i=0):\n",
    "#         TP = self._confusion_matrix[1][1]\n",
    "#         FP = self._confusion_matrix[0][1]\n",
    "#         FN = self._confusion_matrix[1][0]\n",
    "        \n",
    "#         self.precision = TP / float(TP + FP)\n",
    "#         self.recall = TP / float(TP + FN)\n",
    "#         self.F1_score = (self.precision * self.recall) / float(self.precision + self.recall)\n",
    "        y_pred, y_actual = self._sess.run([self._model[\"prediction\"], self._model[\"y_actual\"]], feed_dict=data_dict)\n",
    "\n",
    "        for predict_i in [x for x in range(num_classes)]:\n",
    "            for actual_i in [x for x in range(num_classes)]:\n",
    "                self._confusion_matrix[test_set_id][epoch_i][predict_i][actual_i] += len(np.where(y_pred[np.where(y_actual == predict_i)] == actual_i)[0])\n",
    "\n",
    "\n",
    "    def train(self, data):\n",
    "        \n",
    "        # Save Metrics\n",
    "        self.metrics = {\n",
    "            \"epochs\" : [],\n",
    "            \"training\" : [],\n",
    "            \"validation\" : [],\n",
    "            \"loss\" : [],\n",
    "            \"test\" : None\n",
    "        }\n",
    "        \n",
    "        # Parse Data\n",
    "        X_train = data[\"training\"][\"X\"]\n",
    "        y_train = data[\"training\"][\"y\"]\n",
    "        X_valid = data[\"validation\"][\"X\"]\n",
    "        y_valid = data[\"validation\"][\"y\"]\n",
    "        X_test = data[\"test\"][\"X\"]\n",
    "        y_test = data[\"test\"][\"y\"]\n",
    "        \n",
    "        # Build Confusion Matrix\n",
    "        num_classes = self._architecture[\"n_classes\"]\n",
    "        self._confusion_matrix = {\n",
    "            \"validation\" : np.zeros((self._n_epochs, num_classes, num_classes), dtype=\"int32\"),\n",
    "            \"test\" : np.zeros((1, num_classes, num_classes), dtype=\"int32\")\n",
    "        }\n",
    "        \n",
    "        # Parse out train, valid, test data\n",
    "        n_batches = X_train.shape[0] // self._batch_size\n",
    "        \n",
    "        # TRAIN\n",
    "        # ***************************************************************\n",
    "        print(\"Training...\")\n",
    "\n",
    "        self._sess.run(self._model[\"init\"])\n",
    "        batch_ave = 0\n",
    "        \n",
    "        try:\n",
    "            for epoch_i in range(self._n_epochs):\n",
    "                epoch_loss = 0\n",
    "                train_acc = 0\n",
    "                train_batch_deltas = []\n",
    "                print(\"\\nEpoch {}/{}\\n\".format(epoch_i+1, self._n_epochs))\n",
    "                X_shuff, y_shuff = shuffle(X_train, y_train)\n",
    "                for train_batch_i in range(n_batches):\n",
    "                    batch_t0 = time.time()\n",
    "                    \n",
    "                    X_batch = X_shuff[train_batch_i*self._batch_size:train_batch_i*self._batch_size+self._batch_size]\n",
    "                    y_batch = y_shuff[train_batch_i*self._batch_size:train_batch_i*self._batch_size+self._batch_size]\n",
    "\n",
    "                    ops = [self._model[\"train_op\"], self._model[\"loss\"], self._model[\"accuracy\"]]\n",
    "                    train_dict = {\n",
    "                        self._model[\"X\"] : X_batch,\n",
    "                        self._model[\"y\"] : y_batch\n",
    "                    }\n",
    "\n",
    "                    _, batch_loss, batch_train_acc = self._sess.run(ops, feed_dict=train_dict)\n",
    "\n",
    "                    epoch_loss += batch_loss / n_batches\n",
    "                    train_acc += batch_train_acc / n_batches\n",
    "                    \n",
    "                    # Progress bar\n",
    "                    # ------------------------------------------------\n",
    "                    self._progress_bar(batch_t0, train_batch_i, n_batches, train_batch_deltas, epoch_loss)\n",
    "                    # ------------------------------------------------\n",
    "\n",
    "                # Validation\n",
    "                # ------------------------------------------------\n",
    "                valid_dict = {\n",
    "                    self._model[\"X\"] : X_valid,\n",
    "                    self._model[\"y\"] : y_valid\n",
    "                }\n",
    "\n",
    "                valid_acc = self._sess.run(self._model[\"accuracy\"], feed_dict=valid_dict)\n",
    "                \n",
    "                # Update Validation confusion matrix\n",
    "                self._update_confusion_matrix(\"validation\", valid_dict, epoch_i)\n",
    "                # ------------------------------------------------\n",
    "\n",
    "                # Save metrics\n",
    "                # ------------------------------------------------\n",
    "                self.metrics[\"epochs\"].append(epoch_i)\n",
    "                self.metrics[\"loss\"].append(epoch_loss)\n",
    "                self.metrics[\"training\"].append(train_acc)\n",
    "                self.metrics[\"validation\"].append(valid_acc)\n",
    "                # ------------------------------------------------\n",
    "\n",
    "                # Print\n",
    "                print(\"\\nLoss: {:0.3f} -- Train Acc: {:0.3f} -- Valid Acc: {:0.3f}\\n\".format(epoch_loss, train_acc, valid_acc))\n",
    "\n",
    "            # Testing Accuracy\n",
    "            # ------------------------------------------------\n",
    "            test_dict = {\n",
    "                self._model[\"X\"] : X_test,\n",
    "                self._model[\"y\"] : y_test\n",
    "            }\n",
    "            test_acc = self._sess.run(self._model[\"accuracy\"], feed_dict=test_dict)\n",
    "            \n",
    "            # Save metrics\n",
    "            self.metrics[\"test\"] = test_acc\n",
    "\n",
    "            # Print\n",
    "            print(\"\\nTest accuracy: {:0.3f}\".format(test_acc))\n",
    "            \n",
    "            # Update Validation confusion matrix\n",
    "            self._update_confusion_matrix(\"test\", test_dict)\n",
    "            # ------------------------------------------------\n",
    "\n",
    "            # SAVE\n",
    "            self._model[\"saver\"].save(self._sess, \"models/{}.ckpt\".format(self._save_name))\n",
    "            # ***************************************************************\n",
    "        \n",
    "        except KeyboardInterrupt:\n",
    "            # SAVE\n",
    "            self._model[\"saver\"].save(self._sess, \"models/RNN_custom.ckpt\")\n",
    "\n",
    "        "
   ]
  },
  {
   "cell_type": "markdown",
   "metadata": {},
   "source": [
    "### Run Model"
   ]
  },
  {
   "cell_type": "code",
   "execution_count": 105,
   "metadata": {
    "collapsed": true
   },
   "outputs": [],
   "source": [
    "def run(arch, n_epochs):\n",
    "    rnn_arch = {\n",
    "        \"layer_architecture\" : arch,\n",
    "        \"n_classes\" : num_classes,\n",
    "        \"seq_length\" : X_data.shape[1],\n",
    "        \"n_inputs\" : 1,\n",
    "        \"eta\" : 0.01,\n",
    "        \"cell_type\" : \"GRU\"\n",
    "    }\n",
    "\n",
    "    rnn_params = {\n",
    "        \"architecture\" : rnn_arch,\n",
    "        \"n_epochs\" : n_epochs,\n",
    "        \"batch_size\" : 1024\n",
    "    }\n",
    "    rnn_clf = RNN(**rnn_params)\n",
    "    \n",
    "    rnn_clf.train(data)\n",
    "    \n",
    "    return rnn_clf"
   ]
  },
  {
   "cell_type": "markdown",
   "metadata": {},
   "source": [
    "### Train Model"
   ]
  },
  {
   "cell_type": "code",
   "execution_count": 123,
   "metadata": {},
   "outputs": [
    {
     "name": "stdout",
     "output_type": "stream",
     "text": [
      "Building Model...\n",
      "Training...\n",
      "\n",
      "Epoch 1/10\n",
      "\n",
      "27/27 [=====================] 100.00% - ETA  0m  0s - Loss: 2.858\n",
      "Loss: 2.858 -- Train Acc: 0.124 -- Valid Acc: 0.197\n",
      "\n",
      "\n",
      "Epoch 2/10\n",
      "\n",
      "27/27 [=====================] 100.00% - ETA  0m  0s - Loss: 2.204\n",
      "Loss: 2.204 -- Train Acc: 0.280 -- Valid Acc: 0.335\n",
      "\n",
      "\n",
      "Epoch 3/10\n",
      "\n",
      "27/27 [=====================] 100.00% - ETA  0m  0s - Loss: 1.746\n",
      "Loss: 1.746 -- Train Acc: 0.393 -- Valid Acc: 0.436\n",
      "\n",
      "\n",
      "Epoch 4/10\n",
      "\n",
      "27/27 [=====================] 100.00% - ETA  0m  0s - Loss: 1.443\n",
      "Loss: 1.443 -- Train Acc: 0.490 -- Valid Acc: 0.543\n",
      "\n",
      "\n",
      "Epoch 5/10\n",
      "\n",
      "27/27 [=====================] 100.00% - ETA  0m  0s - Loss: 1.219\n",
      "Loss: 1.219 -- Train Acc: 0.579 -- Valid Acc: 0.573\n",
      "\n",
      "\n",
      "Epoch 6/10\n",
      "\n",
      "27/27 [=====================] 100.00% - ETA  0m  0s - Loss: 1.144\n",
      "Loss: 1.144 -- Train Acc: 0.590 -- Valid Acc: 0.623\n",
      "\n",
      "\n",
      "Epoch 7/10\n",
      "\n",
      "27/27 [=====================] 100.00% - ETA  0m  0s - Loss: 0.997\n",
      "Loss: 0.997 -- Train Acc: 0.651 -- Valid Acc: 0.671\n",
      "\n",
      "\n",
      "Epoch 8/10\n",
      "\n",
      "27/27 [=====================] 100.00% - ETA  0m  0s - Loss: 0.890\n",
      "Loss: 0.890 -- Train Acc: 0.686 -- Valid Acc: 0.681\n",
      "\n",
      "\n",
      "Epoch 9/10\n",
      "\n",
      "27/27 [=====================] 100.00% - ETA  0m  0s - Loss: 0.857\n",
      "Loss: 0.857 -- Train Acc: 0.690 -- Valid Acc: 0.649\n",
      "\n",
      "\n",
      "Epoch 10/10\n",
      "\n",
      "27/27 [=====================] 100.00% - ETA  0m  0s - Loss: 0.806\n",
      "Loss: 0.806 -- Train Acc: 0.705 -- Valid Acc: 0.736\n",
      "\n",
      "\n",
      "Test accuracy: 0.731\n",
      "Building Model...\n",
      "Training...\n",
      "\n",
      "Epoch 1/10\n",
      "\n",
      "27/27 [=====================] 100.00% - ETA  0m  1s - Loss: 2.653\n",
      "Loss: 2.653 -- Train Acc: 0.188 -- Valid Acc: 0.300\n",
      "\n",
      "\n",
      "Epoch 2/10\n",
      "\n",
      "27/27 [=====================] 100.00% - ETA  0m  1s - Loss: 1.789\n",
      "Loss: 1.789 -- Train Acc: 0.416 -- Valid Acc: 0.494\n",
      "\n",
      "\n",
      "Epoch 3/10\n",
      "\n",
      "27/27 [=====================] 100.00% - ETA  0m  1s - Loss: 1.304\n",
      "Loss: 1.304 -- Train Acc: 0.541 -- Valid Acc: 0.600\n",
      "\n",
      "\n",
      "Epoch 4/10\n",
      "\n",
      "27/27 [=====================] 100.00% - ETA  0m  1s - Loss: 1.004\n",
      "Loss: 1.004 -- Train Acc: 0.623 -- Valid Acc: 0.656\n",
      "\n",
      "\n",
      "Epoch 5/10\n",
      "\n",
      "27/27 [=====================] 100.00% - ETA  0m  1s - Loss: 0.865\n",
      "Loss: 0.865 -- Train Acc: 0.665 -- Valid Acc: 0.691\n",
      "\n",
      "\n",
      "Epoch 6/10\n",
      "\n",
      "27/27 [=====================] 100.00% - ETA  0m  1s - Loss: 0.685\n",
      "Loss: 0.685 -- Train Acc: 0.745 -- Valid Acc: 0.786\n",
      "\n",
      "\n",
      "Epoch 7/10\n",
      "\n",
      "27/27 [=====================] 100.00% - ETA  0m  1s - Loss: 0.594\n",
      "Loss: 0.594 -- Train Acc: 0.782 -- Valid Acc: 0.797\n",
      "\n",
      "\n",
      "Epoch 8/10\n",
      "\n",
      "27/27 [=====================] 100.00% - ETA  0m  1s - Loss: 0.483\n",
      "Loss: 0.483 -- Train Acc: 0.829 -- Valid Acc: 0.826\n",
      "\n",
      "\n",
      "Epoch 9/10\n",
      "\n",
      "27/27 [=====================] 100.00% - ETA  0m  1s - Loss: 0.439\n",
      "Loss: 0.439 -- Train Acc: 0.839 -- Valid Acc: 0.836\n",
      "\n",
      "\n",
      "Epoch 10/10\n",
      "\n",
      "27/27 [=====================] 100.00% - ETA  0m  1s - Loss: 0.444\n",
      "Loss: 0.444 -- Train Acc: 0.837 -- Valid Acc: 0.805\n",
      "\n",
      "\n",
      "Test accuracy: 0.802\n"
     ]
    }
   ],
   "source": [
    "archs = [[256, 128, 32], [128, 8], [256, 128, 64, 32], [256, 128, 32, 8], [256, 128, 64, 32, 16, 8]]\n",
    "n_epochs = [50, 25, 50, 100, 200]\n",
    "\n",
    "archs = [ [32, 16], [64, 32] ]\n",
    "n_epochs = [10, 10]\n",
    "\n",
    "clfs = [run(arch, n_epoch) for arch, n_epoch in zip(archs, n_epochs)]"
   ]
  },
  {
   "cell_type": "markdown",
   "metadata": {},
   "source": [
    "### Plotting"
   ]
  },
  {
   "cell_type": "code",
   "execution_count": 124,
   "metadata": {
    "scrolled": true
   },
   "outputs": [
    {
     "data": {
      "image/png": "[encoded data removed]",
      "text/plain": [
       "<matplotlib.figure.Figure at 0x134828990>"
      ]
     },
     "metadata": {},
     "output_type": "display_data"
    }
   ],
   "source": [
    "fig, axes = plt.subplots(len(clfs), 1, figsize=(20,15))\n",
    "\n",
    "for i, rnn_clf in enumerate(clfs):\n",
    "    arch = archs[i]\n",
    "    epochs = rnn_clf.metrics[\"epochs\"]\n",
    "    loss = rnn_clf.metrics[\"loss\"]\n",
    "    training = rnn_clf.metrics[\"training\"]\n",
    "    validation = rnn_clf.metrics[\"validation\"]\n",
    "    test_score = rnn_clf.metrics[\"test\"]\n",
    "    maximum = float(np.max(loss))\n",
    "    minimum = float(np.min(loss))\n",
    "    loss_normed = [(x - minimum) / maximum for x in loss]\n",
    "\n",
    "    axes[i].plot(epochs, training, \"r\", label=\"Training\")\n",
    "    axes[i].plot(epochs, validation, \"b--\", label=\"Validation\")\n",
    "    axes[i].plot(epochs, loss_normed, \"orange\", label=\"Loss\")\n",
    "    axes[i].set_title(\"Arch: {} -- Cell: {} \\n Test: {:0.2f}\".format(arch, \"GRU\", test_score))\n",
    "    axes[i].set_ylim([0, 1.0])\n",
    "    axes[i].set_xlabel(\"Epochs\")\n",
    "    axes[i].set_ylabel(\"Accuracy\")\n",
    "    axes[i].legend()\n",
    "    \n",
    "fig.subplots_adjust(hspace=.75)\n",
    "plt.savefig(\"results.png\")\n",
    "plt.show()"
   ]
  },
  {
   "cell_type": "markdown",
   "metadata": {},
   "source": [
    "## Confusion Matrix Plot"
   ]
  },
  {
   "cell_type": "code",
   "execution_count": 163,
   "metadata": {},
   "outputs": [],
   "source": [
    "def plot_confusion_matrix(clf, test_set_type=\"validation\", animate=False):\n",
    "    import seaborn as sns\n",
    "    import pandas as pd\n",
    "    import matplotlib.colors as mcolors\n",
    "    cmap = mcolors.LinearSegmentedColormap.from_list(\"n\",['#ffffff','#ff0000'])\n",
    "    \n",
    "    confusion_matrix = clf._confusion_matrix[test_set_type]\n",
    "    n_plots = confusion_matrix.shape[0]\n",
    "    if animate:\n",
    "        plt.ion()\n",
    "        for i in range(n_plots):\n",
    "            df = pd.DataFrame(data=confusion_matrix[i], index=[\"Actual: {}\".format(i) for i in range(25)], columns=[\"Predicted: {}\".format(i) for i in range(25)])\n",
    "            sns.heatmap(df, annot=False, fmt=\"d\", cmap=cmap, linewidths=.5, cbar=False)\n",
    "            plt.title(\"{} Set Confusion Matrix -- Epoch: {}\".format(test_set_type, i))\n",
    "            plt.pause(0.005)\n",
    "    else:\n",
    "        df = pd.DataFrame(data=confusion_matrix[-1], index=[\"Actual: {}\".format(i) for i in range(25)], columns=[\"Predicted: {}\".format(i) for i in range(25)])\n",
    "        sns.heatmap(df, annot=False, fmt=\"d\", cmap=cmap, linewidths=.5, cbar=True)\n",
    "        plt.title(\"{} Set Confusion Matrix -- Epoch: {}\".format(test_set_type.capitalize(), i))\n",
    "        plt.pause(0.005)"
   ]
  },
  {
   "cell_type": "code",
   "execution_count": 164,
   "metadata": {},
   "outputs": [
    {
     "data": {
      "image/png": "[encoded data removed]",
      "text/plain": [
       "<matplotlib.figure.Figure at 0x134afbb10>"
      ]
     },
     "metadata": {},
     "output_type": "display_data"
    }
   ],
   "source": [
    "plot_confusion_matrix(clfs[0], \"test\")"
   ]
  },
  {
   "cell_type": "markdown",
   "metadata": {},
   "source": [
    "# Keras Model"
   ]
  },
  {
   "cell_type": "code",
   "execution_count": null,
   "metadata": {
    "collapsed": true
   },
   "outputs": [],
   "source": [
    "from keras.models import Sequential\n",
    "from keras.layers import Dense\n",
    "from keras.layers import LSTM\n",
    "\n",
    "# Params\n",
    "look_back = 1\n",
    "seq_length = X_train.shape[1]\n",
    "n_epochs = 10\n",
    "\n",
    "# Build Model\n",
    "# ========================================================================\n",
    "model = Sequential()\n",
    "model.add(LSTM(32, return_sequences=True, input_shape=(seq_length, look_back)))  # returns a sequence of vectors of dimension 32\n",
    "model.add(LSTM(32, return_sequences=True))  # returns a sequence of vectors of dimension 32\n",
    "model.add(LSTM(32))\n",
    "model.add(Dense(num_classes, activation='softmax'))\n",
    "model.compile(loss='categorical_crossentropy', optimizer='adam', metrics=['accuracy'])\n",
    "# ========================================================================\n",
    "\n",
    "# Train\n",
    "model.fit(X_train, y_train, epochs=n_epochs, batch_size=32, verbose=1)\n",
    "\n",
    "# Scores\n",
    "train_score = model.evaluate(X_train, y_train, verbose=1)\n",
    "test_score = model.evaluate(X_test, y_test, verbose=1)\n",
    "print(\"Train Score: {:0.2f} -- Test Score: {:0.2f}\".format(train_score[1], test_score[1]))"
   ]
  },
  {
   "cell_type": "code",
   "execution_count": 165,
   "metadata": {
    "collapsed": true
   },
   "outputs": [],
   "source": [
    "def main():\n",
    "    data = process_data()\n",
    "\n",
    "    archs = [ [32, 16] ]\n",
    "    n_epochs = [10]\n",
    "\n",
    "    clfs = [run_model(data, arch, n_epoch) for arch, n_epoch in zip(archs, n_epochs)]\n",
    "\n",
    "\n",
    "    input_val = \"\"\n",
    "    while input_val is not \"n\":\n",
    "        input_val = raw_input(\"Plot?\")\n",
    "        plot_confusion_matrix(clfs[0], \"validation\", animate=True)"
   ]
  }
 ],
 "metadata": {
  "kernelspec": {
   "display_name": "Python 2",
   "language": "python",
   "name": "python2"
  },
  "language_info": {
   "codemirror_mode": {
    "name": "ipython",
    "version": 2
   },
   "file_extension": ".py",
   "mimetype": "text/x-python",
   "name": "python",
   "nbconvert_exporter": "python",
   "pygments_lexer": "ipython2",
   "version": "2.7.13"
  }
 },
 "nbformat": 4,
 "nbformat_minor": 2
}
