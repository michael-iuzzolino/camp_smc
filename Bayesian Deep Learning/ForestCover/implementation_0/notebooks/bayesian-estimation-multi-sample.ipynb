{
 "cells": [
  {
   "cell_type": "code",
   "execution_count": 1,
   "metadata": {
    "ExecuteTime": {
     "end_time": "2017-07-27T21:39:11.535478Z",
     "start_time": "2017-07-27T21:39:08.727876Z"
    },
    "scrolled": true
   },
   "outputs": [
    {
     "name": "stderr",
     "output_type": "stream",
     "text": [
      "WARNING (theano.sandbox.cuda): The cuda backend is deprecated and will be removed in the next release (v0.10).  Please switch to the gpuarray backend. You can get more information about how to switch at this URL:\n",
      " https://github.com/Theano/Theano/wiki/Converting-to-the-new-gpu-back-end%28gpuarray%29\n",
      "\n",
      "Using gpu device 0: GeForce GTX 1080 (CNMeM is disabled, cuDNN Mixed dnn version. The header is from one version, but we link with a different version (5110, 6021))\n"
     ]
    }
   ],
   "source": [
    "import pymc3 as pm\n",
    "import pandas as pd\n",
    "import matplotlib \n",
    "\n",
    "from sklearn.preprocessing import LabelEncoder\n",
    "\n",
    "%matplotlib inline"
   ]
  },
  {
   "cell_type": "markdown",
   "metadata": {},
   "source": [
    "## Problem Type\n",
    "\n",
    "The Bayesian estimation model is widely applicable across a number of scenarios. The classical scenario is when we have an experimental design where there is a control vs. a treatment, and we want to know what the difference is between the two. Here, \"estimation\" is used to estimate the \"true\" value for the control and the \"true\" value for the treatment, and the \"Bayesian\" part refers to the computation of the uncertainty surrounding the parameter. \n",
    "\n",
    "Bayesian estimation's advantages over the classical t-test was first described by John Kruschke (2013). \n",
    "\n",
    "In this notebook, I provide a concise implementation suitable for two-sample and multi-sample inference.\n",
    "\n",
    "## Data structure\n",
    "\n",
    "To use it with this model, the data should be structured as such:\n",
    "\n",
    "- Each row is one measurement.\n",
    "- The columns should indicate, at the minimum:\n",
    "    - What treatment group the sample belonged to.\n",
    "    - The measured value.\n",
    "\n",
    "## Extensions to the model\n",
    "\n",
    "As of now, the model only samples posterior distributions of measured values. The model, then, may be extended to compute differences in means (sample vs. control) or effect sizes, complete with uncertainty around it. Use `pm.Deterministic(...)` to ensure that those statistics' posterior distributions, i.e. uncertainty, are also computed.\n",
    "\n",
    "## Reporting summarized findings\n",
    "\n",
    "Here are examples of how to summarize the findings.\n",
    "\n",
    "> Treatment group A was greater than control by x units (95% HPD: [`lower`, `upper`]). \n",
    "\n",
    "> Treatment group A was higher than control (effect size 95% HPD: [`lower`, `upper`]). \n",
    "\n",
    "## Other notes\n",
    "\n",
    "Here, we make a few modelling choices.\n",
    "\n",
    "1. We care only about the `normalized_measurement` column, and so we choose the t-distribution to model it, as we don't have a good \"mechanistic\" model that incorporates measurement error of OD600 and 'measurement'."
   ]
  },
  {
   "cell_type": "code",
   "execution_count": 2,
   "metadata": {
    "ExecuteTime": {
     "end_time": "2017-07-27T21:39:11.550490Z",
     "start_time": "2017-07-27T21:39:11.536811Z"
    }
   },
   "outputs": [
    {
     "data": {
      "text/html": [
       "<div>\n",
       "<style>\n",
       "    .dataframe thead tr:only-child th {\n",
       "        text-align: right;\n",
       "    }\n",
       "\n",
       "    .dataframe thead th {\n",
       "        text-align: left;\n",
       "    }\n",
       "\n",
       "    .dataframe tbody tr th {\n",
       "        vertical-align: top;\n",
       "    }\n",
       "</style>\n",
       "<table border=\"1\" class=\"dataframe\">\n",
       "  <thead>\n",
       "    <tr style=\"text-align: right;\">\n",
       "      <th></th>\n",
       "      <th>experiment</th>\n",
       "      <th>isolate</th>\n",
       "      <th>ST</th>\n",
       "      <th>OD600</th>\n",
       "      <th>measurement</th>\n",
       "      <th>replicate</th>\n",
       "      <th>normalized_measurement</th>\n",
       "    </tr>\n",
       "  </thead>\n",
       "  <tbody>\n",
       "    <tr>\n",
       "      <th>0</th>\n",
       "      <td>1</td>\n",
       "      <td>1</td>\n",
       "      <td>4.0</td>\n",
       "      <td>0.461</td>\n",
       "      <td>0.317</td>\n",
       "      <td>1.0</td>\n",
       "      <td>0.687636</td>\n",
       "    </tr>\n",
       "    <tr>\n",
       "      <th>1</th>\n",
       "      <td>1</td>\n",
       "      <td>2</td>\n",
       "      <td>55.0</td>\n",
       "      <td>0.346</td>\n",
       "      <td>0.434</td>\n",
       "      <td>1.0</td>\n",
       "      <td>1.254335</td>\n",
       "    </tr>\n",
       "    <tr>\n",
       "      <th>2</th>\n",
       "      <td>1</td>\n",
       "      <td>3</td>\n",
       "      <td>55.0</td>\n",
       "      <td>0.356</td>\n",
       "      <td>0.917</td>\n",
       "      <td>1.0</td>\n",
       "      <td>2.575843</td>\n",
       "    </tr>\n",
       "    <tr>\n",
       "      <th>3</th>\n",
       "      <td>1</td>\n",
       "      <td>4</td>\n",
       "      <td>4.0</td>\n",
       "      <td>0.603</td>\n",
       "      <td>1.061</td>\n",
       "      <td>1.0</td>\n",
       "      <td>1.759536</td>\n",
       "    </tr>\n",
       "    <tr>\n",
       "      <th>4</th>\n",
       "      <td>1</td>\n",
       "      <td>5</td>\n",
       "      <td>330.0</td>\n",
       "      <td>0.444</td>\n",
       "      <td>3.701</td>\n",
       "      <td>1.0</td>\n",
       "      <td>8.335586</td>\n",
       "    </tr>\n",
       "  </tbody>\n",
       "</table>\n",
       "</div>"
      ],
      "text/plain": [
       "   experiment isolate     ST  OD600  measurement  replicate  \\\n",
       "0           1       1    4.0  0.461        0.317        1.0   \n",
       "1           1       2   55.0  0.346        0.434        1.0   \n",
       "2           1       3   55.0  0.356        0.917        1.0   \n",
       "3           1       4    4.0  0.603        1.061        1.0   \n",
       "4           1       5  330.0  0.444        3.701        1.0   \n",
       "\n",
       "   normalized_measurement  \n",
       "0                0.687636  \n",
       "1                1.254335  \n",
       "2                2.575843  \n",
       "3                1.759536  \n",
       "4                8.335586  "
      ]
     },
     "execution_count": 2,
     "metadata": {},
     "output_type": "execute_result"
    }
   ],
   "source": [
    "df = pd.read_csv('../datasets/biofilm.csv')\n",
    "continuous_cols = ['OD600', 'ST', 'replicate', 'measurement', 'normalized_measurement']\n",
    "for c in continuous_cols:\n",
    "    df[c] = pm.floatX(df[c])\n",
    "df.head()"
   ]
  },
  {
   "cell_type": "code",
   "execution_count": 3,
   "metadata": {
    "ExecuteTime": {
     "end_time": "2017-07-27T21:39:11.559308Z",
     "start_time": "2017-07-27T21:39:11.551666Z"
    }
   },
   "outputs": [
    {
     "data": {
      "text/plain": [
       "experiment                  int64\n",
       "isolate                    object\n",
       "ST                        float32\n",
       "OD600                     float32\n",
       "measurement               float32\n",
       "replicate                 float32\n",
       "normalized_measurement    float32\n",
       "dtype: object"
      ]
     },
     "execution_count": 3,
     "metadata": {},
     "output_type": "execute_result"
    }
   ],
   "source": [
    "df.dtypes"
   ]
  },
  {
   "cell_type": "code",
   "execution_count": 4,
   "metadata": {
    "ExecuteTime": {
     "end_time": "2017-07-27T21:39:11.564421Z",
     "start_time": "2017-07-27T21:39:11.560663Z"
    },
    "collapsed": true
   },
   "outputs": [],
   "source": [
    "\n",
    "le = LabelEncoder()\n",
    "le.fit(df['isolate'])\n",
    "df['indices'] = le.transform(df['isolate']).astype('int32')"
   ]
  },
  {
   "cell_type": "code",
   "execution_count": 5,
   "metadata": {
    "ExecuteTime": {
     "end_time": "2017-07-27T21:39:11.570592Z",
     "start_time": "2017-07-27T21:39:11.565871Z"
    }
   },
   "outputs": [
    {
     "data": {
      "text/plain": [
       "array(['1', '10', '11', '12', '13', '14', '15', '2', '3', '4', '5', '6',\n",
       "       '7', '8', '9', 'ATCC_29212'], dtype=object)"
      ]
     },
     "execution_count": 5,
     "metadata": {},
     "output_type": "execute_result"
    }
   ],
   "source": [
    "le.classes_"
   ]
  },
  {
   "cell_type": "code",
   "execution_count": 6,
   "metadata": {
    "ExecuteTime": {
     "end_time": "2017-07-27T21:39:19.816518Z",
     "start_time": "2017-07-27T21:39:11.571775Z"
    },
    "collapsed": true
   },
   "outputs": [],
   "source": [
    "with pm.Model() as best:\n",
    "    nu = pm.Exponential('nu_minus_one', lam=1/30) + 1\n",
    "    \n",
    "    fold = pm.Flat('fold', shape=len(le.classes_))\n",
    "    \n",
    "    var = pm.HalfCauchy('var', beta=1, shape=len(le.classes_))\n",
    "    \n",
    "    mu = fold[df['indices'].values]\n",
    "    sd = var[df['indices'].values]\n",
    "    \n",
    "    like = pm.StudentT('like', mu=mu, sd=sd, nu=nu, \n",
    "                       observed=df['normalized_measurement'])\n",
    "    \n",
    "    # Compute differences\n",
    "    diffs = pm.Deterministic('differences', fold - fold[0])"
   ]
  },
  {
   "cell_type": "code",
   "execution_count": 7,
   "metadata": {
    "ExecuteTime": {
     "end_time": "2017-07-27T21:40:41.048292Z",
     "start_time": "2017-07-27T21:39:19.818053Z"
    },
    "scrolled": false
   },
   "outputs": [
    {
     "name": "stderr",
     "output_type": "stream",
     "text": [
      "Auto-assigning NUTS sampler...\n",
      "Initializing NUTS using jitter+adapt_diag...\n",
      "100%|██████████| 2500/2500 [00:42<00:00, 58.97it/s]\n"
     ]
    }
   ],
   "source": [
    "with best:\n",
    "    trace = pm.sample(draws=2000)"
   ]
  },
  {
   "cell_type": "code",
   "execution_count": 8,
   "metadata": {
    "ExecuteTime": {
     "end_time": "2017-07-27T21:40:41.049361Z",
     "start_time": "2017-07-27T21:39:08.711Z"
    },
    "scrolled": false
   },
   "outputs": [
    {
     "data": {
      "text/plain": [
       "<matplotlib.gridspec.GridSpec at 0x7f7584e5ccf8>"
      ]
     },
     "execution_count": 8,
     "metadata": {},
     "output_type": "execute_result"
    },
    {
     "data": {
      "image/png": "[encoded data removed]",
      "text/plain": [
       "<matplotlib.figure.Figure at 0x7f7584e5cf98>"
      ]
     },
     "metadata": {},
     "output_type": "display_data"
    }
   ],
   "source": [
    "pm.forestplot(trace, varnames=['fold'], ylabels=le.classes_)"
   ]
  },
  {
   "cell_type": "code",
   "execution_count": 9,
   "metadata": {
    "ExecuteTime": {
     "end_time": "2017-07-27T21:40:41.049843Z",
     "start_time": "2017-07-27T21:39:08.714Z"
    }
   },
   "outputs": [
    {
     "data": {
      "text/plain": [
       "<matplotlib.gridspec.GridSpec at 0x7f7587e78908>"
      ]
     },
     "execution_count": 9,
     "metadata": {},
     "output_type": "execute_result"
    },
    {
     "data": {
      "image/png": "[encoded data removed]",
      "text/plain": [
       "<matplotlib.figure.Figure at 0x7f7587e789b0>"
      ]
     },
     "metadata": {},
     "output_type": "display_data"
    }
   ],
   "source": [
    "pm.forestplot(trace, varnames=['differences'], ylabels=le.classes_)"
   ]
  },
  {
   "cell_type": "code",
   "execution_count": null,
   "metadata": {
    "collapsed": true
   },
   "outputs": [],
   "source": []
  }
 ],
 "metadata": {
  "kernelspec": {
   "display_name": "bayesian",
   "language": "python",
   "name": "bayesian"
  },
  "language_info": {
   "codemirror_mode": {
    "name": "ipython",
    "version": 3
   },
   "file_extension": ".py",
   "mimetype": "text/x-python",
   "name": "python",
   "nbconvert_exporter": "python",
   "pygments_lexer": "ipython3",
   "version": "3.6.3"
  },
  "toc": {
   "colors": {
    "hover_highlight": "#DAA520",
    "navigate_num": "#000000",
    "navigate_text": "#333333",
    "running_highlight": "#FF0000",
    "selected_highlight": "#FFD700",
    "sidebar_border": "#EEEEEE",
    "wrapper_background": "#FFFFFF"
   },
   "moveMenuLeft": true,
   "nav_menu": {
    "height": "102px",
    "width": "252px"
   },
   "navigate_menu": true,
   "number_sections": true,
   "sideBar": true,
   "threshold": 4,
   "toc_cell": false,
   "toc_section_display": "block",
   "toc_window_display": false,
   "widenNotebook": false
  }
 },
 "nbformat": 4,
 "nbformat_minor": 2
}
